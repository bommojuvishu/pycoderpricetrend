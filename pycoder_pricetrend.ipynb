{
  "nbformat": 4,
  "nbformat_minor": 0,
  "metadata": {
    "colab": {
      "provenance": [],
      "authorship_tag": "ABX9TyMXENUkFUXRRYCILgQkphBP",
      "include_colab_link": true
    },
    "kernelspec": {
      "name": "python3",
      "display_name": "Python 3"
    },
    "language_info": {
      "name": "python"
    }
  },
  "cells": [
    {
      "cell_type": "markdown",
      "metadata": {
        "id": "view-in-github",
        "colab_type": "text"
      },
      "source": [
        "<a href=\"https://colab.research.google.com/github/bommojuvishu/pycoderpricetrend/blob/main/pycoder_pricetrend.ipynb\" target=\"_parent\"><img src=\"https://colab.research.google.com/assets/colab-badge.svg\" alt=\"Open In Colab\"/></a>"
      ]
    },
    {
      "cell_type": "code",
      "execution_count": null,
      "metadata": {
        "colab": {
          "base_uri": "https://localhost:8080/"
        },
        "id": "5hdQoFT-iI-0",
        "outputId": "3c3d3874-c6b4-4273-f882-03530665b946"
      },
      "outputs": [
        {
          "output_type": "stream",
          "name": "stdout",
          "text": [
            "Looking in indexes: https://pypi.org/simple, https://us-python.pkg.dev/colab-wheels/public/simple/\n",
            "Collecting yfinance\n",
            "  Downloading yfinance-0.1.86-py2.py3-none-any.whl (29 kB)\n",
            "Requirement already satisfied: pandas>=0.24.0 in /usr/local/lib/python3.7/dist-packages (from yfinance) (1.3.5)\n",
            "Requirement already satisfied: lxml>=4.5.1 in /usr/local/lib/python3.7/dist-packages (from yfinance) (4.9.1)\n",
            "Collecting requests>=2.26\n",
            "  Downloading requests-2.28.1-py3-none-any.whl (62 kB)\n",
            "\u001b[K     |████████████████████████████████| 62 kB 1.2 MB/s \n",
            "\u001b[?25hRequirement already satisfied: multitasking>=0.0.7 in /usr/local/lib/python3.7/dist-packages (from yfinance) (0.0.11)\n",
            "Requirement already satisfied: appdirs>=1.4.4 in /usr/local/lib/python3.7/dist-packages (from yfinance) (1.4.4)\n",
            "Requirement already satisfied: numpy>=1.15 in /usr/local/lib/python3.7/dist-packages (from yfinance) (1.21.6)\n",
            "Requirement already satisfied: python-dateutil>=2.7.3 in /usr/local/lib/python3.7/dist-packages (from pandas>=0.24.0->yfinance) (2.8.2)\n",
            "Requirement already satisfied: pytz>=2017.3 in /usr/local/lib/python3.7/dist-packages (from pandas>=0.24.0->yfinance) (2022.6)\n",
            "Requirement already satisfied: six>=1.5 in /usr/local/lib/python3.7/dist-packages (from python-dateutil>=2.7.3->pandas>=0.24.0->yfinance) (1.15.0)\n",
            "Requirement already satisfied: charset-normalizer<3,>=2 in /usr/local/lib/python3.7/dist-packages (from requests>=2.26->yfinance) (2.1.1)\n",
            "Requirement already satisfied: urllib3<1.27,>=1.21.1 in /usr/local/lib/python3.7/dist-packages (from requests>=2.26->yfinance) (1.24.3)\n",
            "Requirement already satisfied: idna<4,>=2.5 in /usr/local/lib/python3.7/dist-packages (from requests>=2.26->yfinance) (2.10)\n",
            "Requirement already satisfied: certifi>=2017.4.17 in /usr/local/lib/python3.7/dist-packages (from requests>=2.26->yfinance) (2022.9.24)\n",
            "Installing collected packages: requests, yfinance\n",
            "  Attempting uninstall: requests\n",
            "    Found existing installation: requests 2.23.0\n",
            "    Uninstalling requests-2.23.0:\n",
            "      Successfully uninstalled requests-2.23.0\n",
            "Successfully installed requests-2.28.1 yfinance-0.1.86\n"
          ]
        }
      ],
      "source": [
        "!pip install yfinance"
      ]
    },
    {
      "cell_type": "code",
      "source": [
        "import yfinance as yf\n",
        "import numpy as np\n",
        "import datetime as dt\n",
        "import matplotlib.pyplot as plt"
      ],
      "metadata": {
        "id": "s4g2z1cniM8F"
      },
      "execution_count": null,
      "outputs": []
    },
    {
      "cell_type": "code",
      "source": [
        "import pandas as pd\n",
        "import io\n",
        "# df = pd.read_csv(io.BytesIO(uploaded['inputdata.csv']))\n",
        "periodinput = 120\n",
        "TODAY = \"2022-08-01\"\n",
        "TODAY = (dt.datetime.today()+ dt.timedelta(1)).strftime('%Y-%m-%d') \n",
        "datetime_object = dt.datetime.strptime(TODAY, '%Y-%m-%d')\n",
        "df = yf.download('BAJAJ-AUTO' +'.NS',datetime_object -dt.timedelta(periodinput),datetime_object)\n",
        "\n",
        "df.columns=[ 'open', 'high', 'low', 'close', 'adj close','volume']\n",
        "#Check if NA values are in data\n",
        "df=df[df['volume']!=0]\n",
        "df.reset_index(drop=True, inplace=True)\n",
        "df.isna().sum()\n",
        "df.head(10)"
      ],
      "metadata": {
        "colab": {
          "base_uri": "https://localhost:8080/",
          "height": 381
        },
        "id": "yKK0fZ1WiTrM",
        "outputId": "e64019fa-a957-4437-f329-0609628206e1"
      },
      "execution_count": null,
      "outputs": [
        {
          "output_type": "stream",
          "name": "stdout",
          "text": [
            "\r[*********************100%***********************]  1 of 1 completed\n"
          ]
        },
        {
          "output_type": "execute_result",
          "data": {
            "text/plain": [
              "          open         high          low        close    adj close  volume\n",
              "0  4018.000000  4055.000000  3999.000000  4002.050049  4002.050049  377717\n",
              "1  4004.649902  4070.600098  3993.449951  4057.050049  4057.050049  371547\n",
              "2  4065.000000  4091.000000  4045.250000  4054.500000  4054.500000  280291\n",
              "3  4054.500000  4073.949951  3998.300049  4021.149902  4021.149902  372987\n",
              "4  4014.000000  4030.000000  3917.000000  3925.600098  3925.600098  882407\n",
              "5  3933.000000  3960.000000  3845.149902  3883.850098  3883.850098  514997\n",
              "6  3884.000000  3913.699951  3847.000000  3858.250000  3858.250000  423758\n",
              "7  3899.000000  3952.250000  3878.000000  3914.449951  3914.449951  412805\n",
              "8  3919.949951  3988.250000  3915.000000  3973.300049  3973.300049  459482\n",
              "9  3973.300049  4005.000000  3941.350098  3996.199951  3996.199951  398168"
            ],
            "text/html": [
              "\n",
              "  <div id=\"df-3e446769-8f84-47b1-bd4c-f1e4b4699be1\">\n",
              "    <div class=\"colab-df-container\">\n",
              "      <div>\n",
              "<style scoped>\n",
              "    .dataframe tbody tr th:only-of-type {\n",
              "        vertical-align: middle;\n",
              "    }\n",
              "\n",
              "    .dataframe tbody tr th {\n",
              "        vertical-align: top;\n",
              "    }\n",
              "\n",
              "    .dataframe thead th {\n",
              "        text-align: right;\n",
              "    }\n",
              "</style>\n",
              "<table border=\"1\" class=\"dataframe\">\n",
              "  <thead>\n",
              "    <tr style=\"text-align: right;\">\n",
              "      <th></th>\n",
              "      <th>open</th>\n",
              "      <th>high</th>\n",
              "      <th>low</th>\n",
              "      <th>close</th>\n",
              "      <th>adj close</th>\n",
              "      <th>volume</th>\n",
              "    </tr>\n",
              "  </thead>\n",
              "  <tbody>\n",
              "    <tr>\n",
              "      <th>0</th>\n",
              "      <td>4018.000000</td>\n",
              "      <td>4055.000000</td>\n",
              "      <td>3999.000000</td>\n",
              "      <td>4002.050049</td>\n",
              "      <td>4002.050049</td>\n",
              "      <td>377717</td>\n",
              "    </tr>\n",
              "    <tr>\n",
              "      <th>1</th>\n",
              "      <td>4004.649902</td>\n",
              "      <td>4070.600098</td>\n",
              "      <td>3993.449951</td>\n",
              "      <td>4057.050049</td>\n",
              "      <td>4057.050049</td>\n",
              "      <td>371547</td>\n",
              "    </tr>\n",
              "    <tr>\n",
              "      <th>2</th>\n",
              "      <td>4065.000000</td>\n",
              "      <td>4091.000000</td>\n",
              "      <td>4045.250000</td>\n",
              "      <td>4054.500000</td>\n",
              "      <td>4054.500000</td>\n",
              "      <td>280291</td>\n",
              "    </tr>\n",
              "    <tr>\n",
              "      <th>3</th>\n",
              "      <td>4054.500000</td>\n",
              "      <td>4073.949951</td>\n",
              "      <td>3998.300049</td>\n",
              "      <td>4021.149902</td>\n",
              "      <td>4021.149902</td>\n",
              "      <td>372987</td>\n",
              "    </tr>\n",
              "    <tr>\n",
              "      <th>4</th>\n",
              "      <td>4014.000000</td>\n",
              "      <td>4030.000000</td>\n",
              "      <td>3917.000000</td>\n",
              "      <td>3925.600098</td>\n",
              "      <td>3925.600098</td>\n",
              "      <td>882407</td>\n",
              "    </tr>\n",
              "    <tr>\n",
              "      <th>5</th>\n",
              "      <td>3933.000000</td>\n",
              "      <td>3960.000000</td>\n",
              "      <td>3845.149902</td>\n",
              "      <td>3883.850098</td>\n",
              "      <td>3883.850098</td>\n",
              "      <td>514997</td>\n",
              "    </tr>\n",
              "    <tr>\n",
              "      <th>6</th>\n",
              "      <td>3884.000000</td>\n",
              "      <td>3913.699951</td>\n",
              "      <td>3847.000000</td>\n",
              "      <td>3858.250000</td>\n",
              "      <td>3858.250000</td>\n",
              "      <td>423758</td>\n",
              "    </tr>\n",
              "    <tr>\n",
              "      <th>7</th>\n",
              "      <td>3899.000000</td>\n",
              "      <td>3952.250000</td>\n",
              "      <td>3878.000000</td>\n",
              "      <td>3914.449951</td>\n",
              "      <td>3914.449951</td>\n",
              "      <td>412805</td>\n",
              "    </tr>\n",
              "    <tr>\n",
              "      <th>8</th>\n",
              "      <td>3919.949951</td>\n",
              "      <td>3988.250000</td>\n",
              "      <td>3915.000000</td>\n",
              "      <td>3973.300049</td>\n",
              "      <td>3973.300049</td>\n",
              "      <td>459482</td>\n",
              "    </tr>\n",
              "    <tr>\n",
              "      <th>9</th>\n",
              "      <td>3973.300049</td>\n",
              "      <td>4005.000000</td>\n",
              "      <td>3941.350098</td>\n",
              "      <td>3996.199951</td>\n",
              "      <td>3996.199951</td>\n",
              "      <td>398168</td>\n",
              "    </tr>\n",
              "  </tbody>\n",
              "</table>\n",
              "</div>\n",
              "      <button class=\"colab-df-convert\" onclick=\"convertToInteractive('df-3e446769-8f84-47b1-bd4c-f1e4b4699be1')\"\n",
              "              title=\"Convert this dataframe to an interactive table.\"\n",
              "              style=\"display:none;\">\n",
              "        \n",
              "  <svg xmlns=\"http://www.w3.org/2000/svg\" height=\"24px\"viewBox=\"0 0 24 24\"\n",
              "       width=\"24px\">\n",
              "    <path d=\"M0 0h24v24H0V0z\" fill=\"none\"/>\n",
              "    <path d=\"M18.56 5.44l.94 2.06.94-2.06 2.06-.94-2.06-.94-.94-2.06-.94 2.06-2.06.94zm-11 1L8.5 8.5l.94-2.06 2.06-.94-2.06-.94L8.5 2.5l-.94 2.06-2.06.94zm10 10l.94 2.06.94-2.06 2.06-.94-2.06-.94-.94-2.06-.94 2.06-2.06.94z\"/><path d=\"M17.41 7.96l-1.37-1.37c-.4-.4-.92-.59-1.43-.59-.52 0-1.04.2-1.43.59L10.3 9.45l-7.72 7.72c-.78.78-.78 2.05 0 2.83L4 21.41c.39.39.9.59 1.41.59.51 0 1.02-.2 1.41-.59l7.78-7.78 2.81-2.81c.8-.78.8-2.07 0-2.86zM5.41 20L4 18.59l7.72-7.72 1.47 1.35L5.41 20z\"/>\n",
              "  </svg>\n",
              "      </button>\n",
              "      \n",
              "  <style>\n",
              "    .colab-df-container {\n",
              "      display:flex;\n",
              "      flex-wrap:wrap;\n",
              "      gap: 12px;\n",
              "    }\n",
              "\n",
              "    .colab-df-convert {\n",
              "      background-color: #E8F0FE;\n",
              "      border: none;\n",
              "      border-radius: 50%;\n",
              "      cursor: pointer;\n",
              "      display: none;\n",
              "      fill: #1967D2;\n",
              "      height: 32px;\n",
              "      padding: 0 0 0 0;\n",
              "      width: 32px;\n",
              "    }\n",
              "\n",
              "    .colab-df-convert:hover {\n",
              "      background-color: #E2EBFA;\n",
              "      box-shadow: 0px 1px 2px rgba(60, 64, 67, 0.3), 0px 1px 3px 1px rgba(60, 64, 67, 0.15);\n",
              "      fill: #174EA6;\n",
              "    }\n",
              "\n",
              "    [theme=dark] .colab-df-convert {\n",
              "      background-color: #3B4455;\n",
              "      fill: #D2E3FC;\n",
              "    }\n",
              "\n",
              "    [theme=dark] .colab-df-convert:hover {\n",
              "      background-color: #434B5C;\n",
              "      box-shadow: 0px 1px 3px 1px rgba(0, 0, 0, 0.15);\n",
              "      filter: drop-shadow(0px 1px 2px rgba(0, 0, 0, 0.3));\n",
              "      fill: #FFFFFF;\n",
              "    }\n",
              "  </style>\n",
              "\n",
              "      <script>\n",
              "        const buttonEl =\n",
              "          document.querySelector('#df-3e446769-8f84-47b1-bd4c-f1e4b4699be1 button.colab-df-convert');\n",
              "        buttonEl.style.display =\n",
              "          google.colab.kernel.accessAllowed ? 'block' : 'none';\n",
              "\n",
              "        async function convertToInteractive(key) {\n",
              "          const element = document.querySelector('#df-3e446769-8f84-47b1-bd4c-f1e4b4699be1');\n",
              "          const dataTable =\n",
              "            await google.colab.kernel.invokeFunction('convertToInteractive',\n",
              "                                                     [key], {});\n",
              "          if (!dataTable) return;\n",
              "\n",
              "          const docLinkHtml = 'Like what you see? Visit the ' +\n",
              "            '<a target=\"_blank\" href=https://colab.research.google.com/notebooks/data_table.ipynb>data table notebook</a>'\n",
              "            + ' to learn more about interactive tables.';\n",
              "          element.innerHTML = '';\n",
              "          dataTable['output_type'] = 'display_data';\n",
              "          await google.colab.output.renderOutput(dataTable, element);\n",
              "          const docLink = document.createElement('div');\n",
              "          docLink.innerHTML = docLinkHtml;\n",
              "          element.appendChild(docLink);\n",
              "        }\n",
              "      </script>\n",
              "    </div>\n",
              "  </div>\n",
              "  "
            ]
          },
          "metadata": {},
          "execution_count": 18
        }
      ]
    },
    {
      "cell_type": "code",
      "source": [
        "dfpl = df\n",
        "import plotly.graph_objects as go\n",
        "from datetime import datetime\n",
        "\n",
        "fig = go.Figure(data=[go.Candlestick(x=dfpl.index,\n",
        "                open=dfpl['open'],\n",
        "                high=dfpl['high'],\n",
        "                low=dfpl['low'],\n",
        "                close=dfpl['close'])])\n",
        "\n",
        "fig.show()"
      ],
      "metadata": {
        "colab": {
          "base_uri": "https://localhost:8080/",
          "height": 542
        },
        "id": "ZcGo_BvujaSL",
        "outputId": "fc3151bf-fbf7-464a-88a0-d000d3eceb90"
      },
      "execution_count": null,
      "outputs": [
        {
          "output_type": "display_data",
          "data": {
            "text/html": [
              "<html>\n",
              "<head><meta charset=\"utf-8\" /></head>\n",
              "<body>\n",
              "    <div>            <script src=\"https://cdnjs.cloudflare.com/ajax/libs/mathjax/2.7.5/MathJax.js?config=TeX-AMS-MML_SVG\"></script><script type=\"text/javascript\">if (window.MathJax) {MathJax.Hub.Config({SVG: {font: \"STIX-Web\"}});}</script>                <script type=\"text/javascript\">window.PlotlyConfig = {MathJaxConfig: 'local'};</script>\n",
              "        <script src=\"https://cdn.plot.ly/plotly-2.8.3.min.js\"></script>                <div id=\"48be06af-0c53-4c92-bb75-57cb70519f3a\" class=\"plotly-graph-div\" style=\"height:525px; width:100%;\"></div>            <script type=\"text/javascript\">                                    window.PLOTLYENV=window.PLOTLYENV || {};                                    if (document.getElementById(\"48be06af-0c53-4c92-bb75-57cb70519f3a\")) {                    Plotly.newPlot(                        \"48be06af-0c53-4c92-bb75-57cb70519f3a\",                        [{\"close\":[2606.89990234375,2615.85009765625,2612.0,2587.10009765625,2575.10009765625,2664.800048828125,2632.64990234375,2633.5,2724.300048828125,2779.5,2767.550048828125,2772.75,2724.050048828125,2798.75,2714.25,2662.89990234375,2628.10009765625,2596.300048828125,2560.0,2590.0,2543.050048828125,2584.10009765625,2505.60009765625,2464.949951171875,2500.050048828125,2492.64990234375,2527.699951171875,2580.14990234375,2595.64990234375,2408.699951171875,2413.699951171875,2433.25,2411.85009765625,2388.10009765625,2391.39990234375,2423.89990234375,2420.449951171875,2377.550048828125,2397.14990234375,2401.800048828125,2422.25,2437.10009765625,2503.0,2486.300048828125,2503.10009765625,2420.39990234375,2421.5,2419.199951171875,2457.10009765625,2509.449951171875,2574.85009765625,2584.64990234375,2606.35009765625,2571.89990234375,2534.0,2567.14990234375,2582.5,2591.10009765625,2633.0,2651.300048828125,2665.14990234375,2661.300048828125,2613.85009765625,2606.60009765625,2646.800048828125,2639.75,2632.050048828125,2618.0,2597.64990234375,2637.949951171875,2560.39990234375,2530.5,2569.800048828125,2596.85009765625,2581.75,2585.39990234375,2569.300048828125,2598.050048828125,2619.75,2588.35009765625,2562.699951171875,2499.199951171875,2502.449951171875,2502.85009765625,2509.75,2486.10009765625,2439.5,2377.35009765625,2396.25,2332.449951171875,2325.300048828125,2377.75,2369.5,2413.199951171875,2422.10009765625,2432.35009765625,2405.800048828125,2357.89990234375,2375.25,2382.800048828125,2370.699951171875,2408.75,2451.25,2493.89990234375,2500.60009765625,2471.60009765625,2479.85009765625,2441.550048828125,2451.14990234375,2526.14990234375,2549.60009765625,2529.85009765625,2545.64990234375,2555.14990234375,2592.75,2606.60009765625,2604.0,2572.5,2631.800048828125,2619.050048828125,2607.300048828125,2595.5],\"high\":[2653.550048828125,2638.0,2656.699951171875,2634.89990234375,2605.14990234375,2674.0,2678.800048828125,2655.199951171875,2732.449951171875,2817.35009765625,2814.0,2791.10009765625,2781.0,2803.0,2789.89990234375,2672.800048828125,2671.85009765625,2637.300048828125,2659.050048828125,2624.85009765625,2617.10009765625,2593.39990234375,2558.300048828125,2525.0,2511.0,2544.949951171875,2533.949951171875,2597.0,2615.89990234375,2592.0,2442.0,2464.89990234375,2441.949951171875,2433.25,2418.0,2428.800048828125,2439.699951171875,2434.0,2433.949951171875,2415.0,2425.0,2447.0,2542.5,2500.0,2516.300048828125,2467.449951171875,2443.89990234375,2427.0,2467.949951171875,2517.10009765625,2587.75,2607.800048828125,2610.0,2617.75,2578.800048828125,2583.550048828125,2589.89990234375,2609.89990234375,2641.35009765625,2657.300048828125,2676.89990234375,2669.0,2661.699951171875,2631.300048828125,2653.199951171875,2670.0,2662.89990234375,2650.0,2655.0,2645.25,2604.949951171875,2575.35009765625,2581.5,2606.0,2594.89990234375,2598.0,2610.0,2612.0,2629.699951171875,2610.0,2603.550048828125,2553.0,2522.699951171875,2537.699951171875,2533.0,2503.0,2495.949951171875,2417.800048828125,2426.0,2378.0,2367.5,2402.0,2416.949951171875,2418.0,2450.0,2443.89990234375,2417.60009765625,2414.0,2381.699951171875,2394.0,2416.35009765625,2414.0,2463.0,2527.85009765625,2519.0,2516.800048828125,2502.5,2499.0,2468.449951171875,2535.0,2560.949951171875,2600.0,2550.199951171875,2559.550048828125,2600.0,2610.300048828125,2621.949951171875,2596.550048828125,2636.0,2642.0,2626.39990234375,2615.949951171875],\"low\":[2593.0,2597.699951171875,2601.5,2548.0,2540.10009765625,2594.199951171875,2615.699951171875,2616.199951171875,2634.0,2742.0,2751.800048828125,2752.050048828125,2716.300048828125,2710.0,2701.5,2616.300048828125,2613.449951171875,2584.39990234375,2554.0,2556.10009765625,2521.10009765625,2528.300048828125,2501.0,2445.0,2468.0,2481.550048828125,2482.10009765625,2501.0,2566.0,2365.0,2366.10009765625,2417.10009765625,2388.0,2375.0,2382.550048828125,2370.0,2404.0,2373.0,2376.949951171875,2383.10009765625,2392.300048828125,2400.300048828125,2486.25,2467.300048828125,2495.0,2403.0,2411.35009765625,2402.0,2421.0,2464.0,2507.60009765625,2561.550048828125,2567.449951171875,2535.0,2526.949951171875,2531.0,2557.050048828125,2580.199951171875,2582.199951171875,2627.300048828125,2655.550048828125,2640.199951171875,2604.949951171875,2586.0,2591.35009765625,2635.35009765625,2622.60009765625,2607.0,2578.050048828125,2576.60009765625,2550.699951171875,2525.699951171875,2531.0,2572.0,2570.0,2571.0,2564.0,2570.550048828125,2601.0,2572.75,2556.75,2491.0,2481.35009765625,2494.699951171875,2495.0,2472.10009765625,2436.10009765625,2375.14990234375,2360.10009765625,2327.10009765625,2313.0,2311.0,2363.0,2390.14990234375,2418.14990234375,2414.64990234375,2388.0,2351.10009765625,2343.10009765625,2360.10009765625,2369.10009765625,2343.60009765625,2420.14990234375,2441.699951171875,2485.0,2467.0,2455.300048828125,2438.0,2432.800048828125,2459.449951171875,2532.199951171875,2508.0,2515.0,2525.050048828125,2551.10009765625,2574.0,2590.050048828125,2563.0,2588.0,2605.14990234375,2590.0,2595.0],\"open\":[2631.5,2607.0,2635.0,2624.39990234375,2593.050048828125,2615.0,2641.39990234375,2634.300048828125,2634.0,2744.0,2780.0,2769.89990234375,2772.75,2710.0,2771.89990234375,2650.0,2650.050048828125,2617.550048828125,2623.0,2560.0,2605.0,2560.0,2558.10009765625,2515.050048828125,2480.0,2544.949951171875,2482.10009765625,2507.199951171875,2580.0,2574.89990234375,2378.949951171875,2423.0,2420.10009765625,2425.89990234375,2418.0,2376.5,2404.0,2427.300048828125,2388.0,2415.0,2421.0,2400.300048828125,2540.0,2494.0,2500.0,2467.449951171875,2421.10009765625,2419.949951171875,2436.0,2474.699951171875,2519.14990234375,2572.5,2600.0,2610.0,2576.0,2531.0,2576.89990234375,2603.10009765625,2590.300048828125,2646.199951171875,2665.0,2660.0,2650.0,2617.0,2594.0,2640.10009765625,2648.949951171875,2633.0,2585.0,2614.0,2582.64990234375,2560.39990234375,2531.0,2573.0,2575.0,2588.25,2610.0,2570.550048828125,2618.0,2575.0,2583.0,2543.75,2499.199951171875,2522.449951171875,2496.75,2486.0,2485.0,2394.050048828125,2394.0,2360.35009765625,2360.0,2311.0,2391.5,2397.800048828125,2429.0,2414.64990234375,2405.0,2414.0,2352.0,2371.39990234375,2415.0,2355.0,2422.0,2454.5,2485.0,2507.699951171875,2460.0,2499.0,2458.0,2465.0,2541.0,2600.0,2532.300048828125,2529.85009765625,2553.89990234375,2591.0,2610.300048828125,2590.0,2600.0,2630.75,2622.300048828125,2610.0],\"x\":[0,1,2,3,4,5,6,7,8,9,10,11,12,13,14,15,16,17,18,19,20,21,22,23,24,25,26,27,28,29,30,31,32,33,34,35,36,37,38,39,40,41,42,43,44,45,46,47,48,49,50,51,52,53,54,55,56,57,58,59,60,61,62,63,64,65,66,67,68,69,70,71,72,73,74,75,76,77,78,79,80,81,82,83,84,85,86,87,88,89,90,91,92,93,94,95,96,97,98,99,100,101,102,103,104,105,106,107,108,109,110,111,112,113,114,115,116,117,118,119,120,121],\"type\":\"candlestick\"}],                        {\"template\":{\"data\":{\"bar\":[{\"error_x\":{\"color\":\"#2a3f5f\"},\"error_y\":{\"color\":\"#2a3f5f\"},\"marker\":{\"line\":{\"color\":\"#E5ECF6\",\"width\":0.5},\"pattern\":{\"fillmode\":\"overlay\",\"size\":10,\"solidity\":0.2}},\"type\":\"bar\"}],\"barpolar\":[{\"marker\":{\"line\":{\"color\":\"#E5ECF6\",\"width\":0.5},\"pattern\":{\"fillmode\":\"overlay\",\"size\":10,\"solidity\":0.2}},\"type\":\"barpolar\"}],\"carpet\":[{\"aaxis\":{\"endlinecolor\":\"#2a3f5f\",\"gridcolor\":\"white\",\"linecolor\":\"white\",\"minorgridcolor\":\"white\",\"startlinecolor\":\"#2a3f5f\"},\"baxis\":{\"endlinecolor\":\"#2a3f5f\",\"gridcolor\":\"white\",\"linecolor\":\"white\",\"minorgridcolor\":\"white\",\"startlinecolor\":\"#2a3f5f\"},\"type\":\"carpet\"}],\"choropleth\":[{\"colorbar\":{\"outlinewidth\":0,\"ticks\":\"\"},\"type\":\"choropleth\"}],\"contour\":[{\"colorbar\":{\"outlinewidth\":0,\"ticks\":\"\"},\"colorscale\":[[0.0,\"#0d0887\"],[0.1111111111111111,\"#46039f\"],[0.2222222222222222,\"#7201a8\"],[0.3333333333333333,\"#9c179e\"],[0.4444444444444444,\"#bd3786\"],[0.5555555555555556,\"#d8576b\"],[0.6666666666666666,\"#ed7953\"],[0.7777777777777778,\"#fb9f3a\"],[0.8888888888888888,\"#fdca26\"],[1.0,\"#f0f921\"]],\"type\":\"contour\"}],\"contourcarpet\":[{\"colorbar\":{\"outlinewidth\":0,\"ticks\":\"\"},\"type\":\"contourcarpet\"}],\"heatmap\":[{\"colorbar\":{\"outlinewidth\":0,\"ticks\":\"\"},\"colorscale\":[[0.0,\"#0d0887\"],[0.1111111111111111,\"#46039f\"],[0.2222222222222222,\"#7201a8\"],[0.3333333333333333,\"#9c179e\"],[0.4444444444444444,\"#bd3786\"],[0.5555555555555556,\"#d8576b\"],[0.6666666666666666,\"#ed7953\"],[0.7777777777777778,\"#fb9f3a\"],[0.8888888888888888,\"#fdca26\"],[1.0,\"#f0f921\"]],\"type\":\"heatmap\"}],\"heatmapgl\":[{\"colorbar\":{\"outlinewidth\":0,\"ticks\":\"\"},\"colorscale\":[[0.0,\"#0d0887\"],[0.1111111111111111,\"#46039f\"],[0.2222222222222222,\"#7201a8\"],[0.3333333333333333,\"#9c179e\"],[0.4444444444444444,\"#bd3786\"],[0.5555555555555556,\"#d8576b\"],[0.6666666666666666,\"#ed7953\"],[0.7777777777777778,\"#fb9f3a\"],[0.8888888888888888,\"#fdca26\"],[1.0,\"#f0f921\"]],\"type\":\"heatmapgl\"}],\"histogram\":[{\"marker\":{\"pattern\":{\"fillmode\":\"overlay\",\"size\":10,\"solidity\":0.2}},\"type\":\"histogram\"}],\"histogram2d\":[{\"colorbar\":{\"outlinewidth\":0,\"ticks\":\"\"},\"colorscale\":[[0.0,\"#0d0887\"],[0.1111111111111111,\"#46039f\"],[0.2222222222222222,\"#7201a8\"],[0.3333333333333333,\"#9c179e\"],[0.4444444444444444,\"#bd3786\"],[0.5555555555555556,\"#d8576b\"],[0.6666666666666666,\"#ed7953\"],[0.7777777777777778,\"#fb9f3a\"],[0.8888888888888888,\"#fdca26\"],[1.0,\"#f0f921\"]],\"type\":\"histogram2d\"}],\"histogram2dcontour\":[{\"colorbar\":{\"outlinewidth\":0,\"ticks\":\"\"},\"colorscale\":[[0.0,\"#0d0887\"],[0.1111111111111111,\"#46039f\"],[0.2222222222222222,\"#7201a8\"],[0.3333333333333333,\"#9c179e\"],[0.4444444444444444,\"#bd3786\"],[0.5555555555555556,\"#d8576b\"],[0.6666666666666666,\"#ed7953\"],[0.7777777777777778,\"#fb9f3a\"],[0.8888888888888888,\"#fdca26\"],[1.0,\"#f0f921\"]],\"type\":\"histogram2dcontour\"}],\"mesh3d\":[{\"colorbar\":{\"outlinewidth\":0,\"ticks\":\"\"},\"type\":\"mesh3d\"}],\"parcoords\":[{\"line\":{\"colorbar\":{\"outlinewidth\":0,\"ticks\":\"\"}},\"type\":\"parcoords\"}],\"pie\":[{\"automargin\":true,\"type\":\"pie\"}],\"scatter\":[{\"marker\":{\"colorbar\":{\"outlinewidth\":0,\"ticks\":\"\"}},\"type\":\"scatter\"}],\"scatter3d\":[{\"line\":{\"colorbar\":{\"outlinewidth\":0,\"ticks\":\"\"}},\"marker\":{\"colorbar\":{\"outlinewidth\":0,\"ticks\":\"\"}},\"type\":\"scatter3d\"}],\"scattercarpet\":[{\"marker\":{\"colorbar\":{\"outlinewidth\":0,\"ticks\":\"\"}},\"type\":\"scattercarpet\"}],\"scattergeo\":[{\"marker\":{\"colorbar\":{\"outlinewidth\":0,\"ticks\":\"\"}},\"type\":\"scattergeo\"}],\"scattergl\":[{\"marker\":{\"colorbar\":{\"outlinewidth\":0,\"ticks\":\"\"}},\"type\":\"scattergl\"}],\"scattermapbox\":[{\"marker\":{\"colorbar\":{\"outlinewidth\":0,\"ticks\":\"\"}},\"type\":\"scattermapbox\"}],\"scatterpolar\":[{\"marker\":{\"colorbar\":{\"outlinewidth\":0,\"ticks\":\"\"}},\"type\":\"scatterpolar\"}],\"scatterpolargl\":[{\"marker\":{\"colorbar\":{\"outlinewidth\":0,\"ticks\":\"\"}},\"type\":\"scatterpolargl\"}],\"scatterternary\":[{\"marker\":{\"colorbar\":{\"outlinewidth\":0,\"ticks\":\"\"}},\"type\":\"scatterternary\"}],\"surface\":[{\"colorbar\":{\"outlinewidth\":0,\"ticks\":\"\"},\"colorscale\":[[0.0,\"#0d0887\"],[0.1111111111111111,\"#46039f\"],[0.2222222222222222,\"#7201a8\"],[0.3333333333333333,\"#9c179e\"],[0.4444444444444444,\"#bd3786\"],[0.5555555555555556,\"#d8576b\"],[0.6666666666666666,\"#ed7953\"],[0.7777777777777778,\"#fb9f3a\"],[0.8888888888888888,\"#fdca26\"],[1.0,\"#f0f921\"]],\"type\":\"surface\"}],\"table\":[{\"cells\":{\"fill\":{\"color\":\"#EBF0F8\"},\"line\":{\"color\":\"white\"}},\"header\":{\"fill\":{\"color\":\"#C8D4E3\"},\"line\":{\"color\":\"white\"}},\"type\":\"table\"}]},\"layout\":{\"annotationdefaults\":{\"arrowcolor\":\"#2a3f5f\",\"arrowhead\":0,\"arrowwidth\":1},\"autotypenumbers\":\"strict\",\"coloraxis\":{\"colorbar\":{\"outlinewidth\":0,\"ticks\":\"\"}},\"colorscale\":{\"diverging\":[[0,\"#8e0152\"],[0.1,\"#c51b7d\"],[0.2,\"#de77ae\"],[0.3,\"#f1b6da\"],[0.4,\"#fde0ef\"],[0.5,\"#f7f7f7\"],[0.6,\"#e6f5d0\"],[0.7,\"#b8e186\"],[0.8,\"#7fbc41\"],[0.9,\"#4d9221\"],[1,\"#276419\"]],\"sequential\":[[0.0,\"#0d0887\"],[0.1111111111111111,\"#46039f\"],[0.2222222222222222,\"#7201a8\"],[0.3333333333333333,\"#9c179e\"],[0.4444444444444444,\"#bd3786\"],[0.5555555555555556,\"#d8576b\"],[0.6666666666666666,\"#ed7953\"],[0.7777777777777778,\"#fb9f3a\"],[0.8888888888888888,\"#fdca26\"],[1.0,\"#f0f921\"]],\"sequentialminus\":[[0.0,\"#0d0887\"],[0.1111111111111111,\"#46039f\"],[0.2222222222222222,\"#7201a8\"],[0.3333333333333333,\"#9c179e\"],[0.4444444444444444,\"#bd3786\"],[0.5555555555555556,\"#d8576b\"],[0.6666666666666666,\"#ed7953\"],[0.7777777777777778,\"#fb9f3a\"],[0.8888888888888888,\"#fdca26\"],[1.0,\"#f0f921\"]]},\"colorway\":[\"#636efa\",\"#EF553B\",\"#00cc96\",\"#ab63fa\",\"#FFA15A\",\"#19d3f3\",\"#FF6692\",\"#B6E880\",\"#FF97FF\",\"#FECB52\"],\"font\":{\"color\":\"#2a3f5f\"},\"geo\":{\"bgcolor\":\"white\",\"lakecolor\":\"white\",\"landcolor\":\"#E5ECF6\",\"showlakes\":true,\"showland\":true,\"subunitcolor\":\"white\"},\"hoverlabel\":{\"align\":\"left\"},\"hovermode\":\"closest\",\"mapbox\":{\"style\":\"light\"},\"paper_bgcolor\":\"white\",\"plot_bgcolor\":\"#E5ECF6\",\"polar\":{\"angularaxis\":{\"gridcolor\":\"white\",\"linecolor\":\"white\",\"ticks\":\"\"},\"bgcolor\":\"#E5ECF6\",\"radialaxis\":{\"gridcolor\":\"white\",\"linecolor\":\"white\",\"ticks\":\"\"}},\"scene\":{\"xaxis\":{\"backgroundcolor\":\"#E5ECF6\",\"gridcolor\":\"white\",\"gridwidth\":2,\"linecolor\":\"white\",\"showbackground\":true,\"ticks\":\"\",\"zerolinecolor\":\"white\"},\"yaxis\":{\"backgroundcolor\":\"#E5ECF6\",\"gridcolor\":\"white\",\"gridwidth\":2,\"linecolor\":\"white\",\"showbackground\":true,\"ticks\":\"\",\"zerolinecolor\":\"white\"},\"zaxis\":{\"backgroundcolor\":\"#E5ECF6\",\"gridcolor\":\"white\",\"gridwidth\":2,\"linecolor\":\"white\",\"showbackground\":true,\"ticks\":\"\",\"zerolinecolor\":\"white\"}},\"shapedefaults\":{\"line\":{\"color\":\"#2a3f5f\"}},\"ternary\":{\"aaxis\":{\"gridcolor\":\"white\",\"linecolor\":\"white\",\"ticks\":\"\"},\"baxis\":{\"gridcolor\":\"white\",\"linecolor\":\"white\",\"ticks\":\"\"},\"bgcolor\":\"#E5ECF6\",\"caxis\":{\"gridcolor\":\"white\",\"linecolor\":\"white\",\"ticks\":\"\"}},\"title\":{\"x\":0.05},\"xaxis\":{\"automargin\":true,\"gridcolor\":\"white\",\"linecolor\":\"white\",\"ticks\":\"\",\"title\":{\"standoff\":15},\"zerolinecolor\":\"white\",\"zerolinewidth\":2},\"yaxis\":{\"automargin\":true,\"gridcolor\":\"white\",\"linecolor\":\"white\",\"ticks\":\"\",\"title\":{\"standoff\":15},\"zerolinecolor\":\"white\",\"zerolinewidth\":2}}}},                        {\"responsive\": true}                    ).then(function(){\n",
              "                            \n",
              "var gd = document.getElementById('48be06af-0c53-4c92-bb75-57cb70519f3a');\n",
              "var x = new MutationObserver(function (mutations, observer) {{\n",
              "        var display = window.getComputedStyle(gd).display;\n",
              "        if (!display || display === 'none') {{\n",
              "            console.log([gd, 'removed!']);\n",
              "            Plotly.purge(gd);\n",
              "            observer.disconnect();\n",
              "        }}\n",
              "}});\n",
              "\n",
              "// Listen for the removal of the full notebook cells\n",
              "var notebookContainer = gd.closest('#notebook-container');\n",
              "if (notebookContainer) {{\n",
              "    x.observe(notebookContainer, {childList: true});\n",
              "}}\n",
              "\n",
              "// Listen for the clearing of the current output cell\n",
              "var outputEl = gd.closest('.output');\n",
              "if (outputEl) {{\n",
              "    x.observe(outputEl, {childList: true});\n",
              "}}\n",
              "\n",
              "                        })                };                            </script>        </div>\n",
              "</body>\n",
              "</html>"
            ]
          },
          "metadata": {}
        }
      ]
    },
    {
      "cell_type": "code",
      "source": [
        "import pandas as pd\n",
        "import io\n",
        "import numpy as np\n",
        "from matplotlib import pyplot\n",
        "\n",
        "\n",
        "periodinput = 90\n",
        "TODAY = \"2022-08-01\"\n",
        "TODAY = (dt.datetime.today()+ dt.timedelta(1)).strftime('%Y-%m-%d') \n",
        "datetime_object = dt.datetime.strptime(TODAY, '%Y-%m-%d')\n",
        "name =\"BAJFINANCE\"\n",
        "df = yf.download(name +'.NS',datetime_object -dt.timedelta(periodinput),datetime_object)\n",
        "# print(df)\n",
        "df.columns=[ 'open', 'high', 'low', 'close', 'adj close','volume']\n",
        "#Check if NA values are in data\n",
        "df=df[df['volume']!=0]\n",
        "df.reset_index(drop=True, inplace=True)\n",
        "df.isna().sum()\n",
        "df.head(10)\n",
        "# ---------------------------------------\n",
        "\n",
        "backcandles= 60\n",
        "wind = 5\n",
        "\n",
        "candleid = len(df) -1\n",
        "print(candleid)\n",
        "\n",
        "maxim = np.array([])\n",
        "minim = np.array([])\n",
        "xxmin = np.array([])\n",
        "xxmax = np.array([])\n",
        "for i in range(0, candleid+1, wind):\n",
        "    minim = np.append(minim, df.low.iloc[i:i+wind].min())\n",
        "    xxmin = np.append(xxmin, df.low.iloc[i:i+wind].idxmin())\n",
        "for i in range(0, candleid+1, wind):\n",
        "    maxim = np.append(maxim, df.high.loc[i:i+wind].max())\n",
        "    xxmax = np.append(xxmax, df.high.iloc[i:i+wind].idxmax())\n",
        "slmin, intercmin = np.polyfit(xxmin, minim,1)\n",
        "slmax, intercmax = np.polyfit(xxmax, maxim,1)\n",
        "print(\"slope\",slmin)\n",
        "# dfpl = df\n",
        "# fig = go.Figure(data=[go.Candlestick(x=dfpl.index,\n",
        "#                 open=dfpl['open'],\n",
        "#                 high=dfpl['high'],\n",
        "#                 low=dfpl['low'],\n",
        "#                 close=dfpl['close'])])\n",
        "# fig.add_trace(go.Scatter(x=xxmin, y=slmin*xxmin + intercmin, mode='lines', name='min slope'))\n",
        "# fig.add_trace(go.Scatter(x=xxmax, y=slmax*xxmax + intercmax, mode='lines', name='max slope'))\n",
        "\n",
        "\n",
        "plt.title(name)\n",
        "plt.xlabel('Days')\n",
        "plt.ylabel('Prices')\n",
        "plt.plot(df['close'], label=name)\n",
        "plt.plot(slmin*df.index.values + intercmin, label='Support', c='r')\n",
        "plt.plot(slmax*df.index.values + intercmax, label='Resistance', c='g')\n",
        "plt.legend()\n",
        "plt.show()\n"
      ],
      "metadata": {
        "colab": {
          "base_uri": "https://localhost:8080/",
          "height": 349
        },
        "id": "Z0lQB9AIjisC",
        "outputId": "a100726c-add1-4f7f-e06f-ae0a49eafa9d"
      },
      "execution_count": null,
      "outputs": [
        {
          "output_type": "stream",
          "name": "stdout",
          "text": [
            "\r[*********************100%***********************]  1 of 1 completed\n",
            "59\n",
            "slope -0.4643239652963871\n"
          ]
        },
        {
          "output_type": "display_data",
          "data": {
            "text/plain": [
              "<Figure size 432x288 with 1 Axes>"
            ],
            "image/png": "[encoded data removed]"
          },
          "metadata": {
            "needs_background": "light"
          }
        }
      ]
    },
    {
      "cell_type": "code",
      "source": [],
      "metadata": {
        "id": "BKm9Oa6swmgb"
      },
      "execution_count": null,
      "outputs": []
    }
  ]
}